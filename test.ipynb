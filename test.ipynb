{
 "cells": [
  {
   "cell_type": "code",
   "execution_count": 1,
   "metadata": {
    "collapsed": true,
    "pycharm": {
     "name": "#%%\n"
    }
   },
   "outputs": [],
   "source": [
    "import pandas as pd"
   ]
  },
  {
   "cell_type": "code",
   "execution_count": 2,
   "outputs": [],
   "source": [
    "data = pd.read_csv(\"example.csv\")"
   ],
   "metadata": {
    "collapsed": false,
    "pycharm": {
     "name": "#%%\n"
    }
   }
  },
  {
   "cell_type": "code",
   "execution_count": 3,
   "outputs": [
    {
     "data": {
      "text/plain": "           a choice        date     float  integer       mask string  \\\n0   9.864628    123  2022-10-11  9.864628        4  123d6456o     ac   \n1   8.902323    123  2022-10-07  8.902323        3  123ga456p     aa   \n2   9.221657    123  2022-10-10  9.221657        9  123qk456x     bb   \n3   7.953400    123  2022-10-10  7.953400        9  1233h4568     ca   \n4   6.941799  hello  2022-10-09  6.941799        2  123g2456g     cb   \n..       ...    ...         ...       ...      ...        ...    ...   \n95  4.177250  hello  2022-10-07  4.177250        5  123kz456c     cb   \n96  1.719480  hello  2022-10-07  1.719480        1  123i7456m     aa   \n97  5.021922    123  2022-10-10  5.021922        7  123z7456i     ab   \n98  1.445987    123  2022-10-11  1.445987        5  123uu4564     bb   \n99  9.308947    123  2022-10-09  9.308947        2  1233r4564     ab   \n\n               timestep wchoice  \n0   2022-10-09 23:36:38   hello  \n1   2022-10-09 06:09:08   hello  \n2   2022-10-08 04:16:59   hello  \n3   2022-10-11 03:54:20   hello  \n4   2022-10-08 17:19:47   hello  \n..                  ...     ...  \n95  2022-10-12 01:30:24   hello  \n96  2022-10-08 03:11:14     456  \n97  2022-10-12 17:52:12     456  \n98  2022-10-10 13:36:52   hello  \n99  2022-10-09 16:04:01     456  \n\n[100 rows x 9 columns]",
      "text/html": "<div>\n<style scoped>\n    .dataframe tbody tr th:only-of-type {\n        vertical-align: middle;\n    }\n\n    .dataframe tbody tr th {\n        vertical-align: top;\n    }\n\n    .dataframe thead th {\n        text-align: right;\n    }\n</style>\n<table border=\"1\" class=\"dataframe\">\n  <thead>\n    <tr style=\"text-align: right;\">\n      <th></th>\n      <th>a</th>\n      <th>choice</th>\n      <th>date</th>\n      <th>float</th>\n      <th>integer</th>\n      <th>mask</th>\n      <th>string</th>\n      <th>timestep</th>\n      <th>wchoice</th>\n    </tr>\n  </thead>\n  <tbody>\n    <tr>\n      <th>0</th>\n      <td>9.864628</td>\n      <td>123</td>\n      <td>2022-10-11</td>\n      <td>9.864628</td>\n      <td>4</td>\n      <td>123d6456o</td>\n      <td>ac</td>\n      <td>2022-10-09 23:36:38</td>\n      <td>hello</td>\n    </tr>\n    <tr>\n      <th>1</th>\n      <td>8.902323</td>\n      <td>123</td>\n      <td>2022-10-07</td>\n      <td>8.902323</td>\n      <td>3</td>\n      <td>123ga456p</td>\n      <td>aa</td>\n      <td>2022-10-09 06:09:08</td>\n      <td>hello</td>\n    </tr>\n    <tr>\n      <th>2</th>\n      <td>9.221657</td>\n      <td>123</td>\n      <td>2022-10-10</td>\n      <td>9.221657</td>\n      <td>9</td>\n      <td>123qk456x</td>\n      <td>bb</td>\n      <td>2022-10-08 04:16:59</td>\n      <td>hello</td>\n    </tr>\n    <tr>\n      <th>3</th>\n      <td>7.953400</td>\n      <td>123</td>\n      <td>2022-10-10</td>\n      <td>7.953400</td>\n      <td>9</td>\n      <td>1233h4568</td>\n      <td>ca</td>\n      <td>2022-10-11 03:54:20</td>\n      <td>hello</td>\n    </tr>\n    <tr>\n      <th>4</th>\n      <td>6.941799</td>\n      <td>hello</td>\n      <td>2022-10-09</td>\n      <td>6.941799</td>\n      <td>2</td>\n      <td>123g2456g</td>\n      <td>cb</td>\n      <td>2022-10-08 17:19:47</td>\n      <td>hello</td>\n    </tr>\n    <tr>\n      <th>...</th>\n      <td>...</td>\n      <td>...</td>\n      <td>...</td>\n      <td>...</td>\n      <td>...</td>\n      <td>...</td>\n      <td>...</td>\n      <td>...</td>\n      <td>...</td>\n    </tr>\n    <tr>\n      <th>95</th>\n      <td>4.177250</td>\n      <td>hello</td>\n      <td>2022-10-07</td>\n      <td>4.177250</td>\n      <td>5</td>\n      <td>123kz456c</td>\n      <td>cb</td>\n      <td>2022-10-12 01:30:24</td>\n      <td>hello</td>\n    </tr>\n    <tr>\n      <th>96</th>\n      <td>1.719480</td>\n      <td>hello</td>\n      <td>2022-10-07</td>\n      <td>1.719480</td>\n      <td>1</td>\n      <td>123i7456m</td>\n      <td>aa</td>\n      <td>2022-10-08 03:11:14</td>\n      <td>456</td>\n    </tr>\n    <tr>\n      <th>97</th>\n      <td>5.021922</td>\n      <td>123</td>\n      <td>2022-10-10</td>\n      <td>5.021922</td>\n      <td>7</td>\n      <td>123z7456i</td>\n      <td>ab</td>\n      <td>2022-10-12 17:52:12</td>\n      <td>456</td>\n    </tr>\n    <tr>\n      <th>98</th>\n      <td>1.445987</td>\n      <td>123</td>\n      <td>2022-10-11</td>\n      <td>1.445987</td>\n      <td>5</td>\n      <td>123uu4564</td>\n      <td>bb</td>\n      <td>2022-10-10 13:36:52</td>\n      <td>hello</td>\n    </tr>\n    <tr>\n      <th>99</th>\n      <td>9.308947</td>\n      <td>123</td>\n      <td>2022-10-09</td>\n      <td>9.308947</td>\n      <td>2</td>\n      <td>1233r4564</td>\n      <td>ab</td>\n      <td>2022-10-09 16:04:01</td>\n      <td>456</td>\n    </tr>\n  </tbody>\n</table>\n<p>100 rows × 9 columns</p>\n</div>"
     },
     "execution_count": 3,
     "metadata": {},
     "output_type": "execute_result"
    }
   ],
   "source": [
    "data"
   ],
   "metadata": {
    "collapsed": false,
    "pycharm": {
     "name": "#%%\n"
    }
   }
  },
  {
   "cell_type": "code",
   "execution_count": null,
   "outputs": [],
   "source": [],
   "metadata": {
    "collapsed": false,
    "pycharm": {
     "name": "#%%\n"
    }
   }
  }
 ],
 "metadata": {
  "kernelspec": {
   "display_name": "Python 3",
   "language": "python",
   "name": "python3"
  },
  "language_info": {
   "codemirror_mode": {
    "name": "ipython",
    "version": 2
   },
   "file_extension": ".py",
   "mimetype": "text/x-python",
   "name": "python",
   "nbconvert_exporter": "python",
   "pygments_lexer": "ipython2",
   "version": "2.7.6"
  }
 },
 "nbformat": 4,
 "nbformat_minor": 0
}